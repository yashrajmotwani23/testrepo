{
 "cells": [
  {
   "cell_type": "markdown",
   "id": "fbf608c9-e896-45d3-9302-c1f60951fd6c",
   "metadata": {},
   "source": [
    "# Data Science Tools and Ecosystem"
   ]
  },
  {
   "cell_type": "markdown",
   "id": "0150ab04-fd0b-4cae-aed6-413d731acdd0",
   "metadata": {},
   "source": [
    "## In this notebook, Data Science Tools and Ecosystem are summarized."
   ]
  },
  {
   "cell_type": "markdown",
   "id": "9bf24c49-3830-455d-a49d-3e5572bd9eda",
   "metadata": {},
   "source": [
    "## Some of the popular languages that Data Scientists use are:\n",
    "1. Python\n",
    "2. R\n",
    "3. SQL"
   ]
  },
  {
   "cell_type": "markdown",
   "id": "fb908d73-b615-4cd5-92e4-1c7d343b5d1f",
   "metadata": {},
   "source": [
    "## Some of the commonly used libraries used by Data Scientists include:\n",
    "1. Scikit-learn\n",
    "2. Keras\n",
    "3. Pytorch"
   ]
  },
  {
   "cell_type": "markdown",
   "id": "2b3d5d73-53b6-4ede-83d7-5cafc497515d",
   "metadata": {},
   "source": [
    "| Data Science Tools |\n",
    "| --- |\n",
    "| Hadoop |\n",
    "| Spark |\n",
    "| Jupyter-Notebooks |"
   ]
  },
  {
   "cell_type": "markdown",
   "id": "afb6789c-7408-4741-b716-2dc647496f3a",
   "metadata": {},
   "source": [
    "### Below are a few examples of evaluating arithmetic expressions in Python\n",
    "1. a + b\n",
    "2. a - b\n",
    "3. a * b"
   ]
  },
  {
   "cell_type": "code",
   "execution_count": 7,
   "id": "c47955b1-687f-401f-b215-4a254f34a5c7",
   "metadata": {},
   "outputs": [
    {
     "data": {
      "text/plain": [
       "17"
      ]
     },
     "execution_count": 7,
     "metadata": {},
     "output_type": "execute_result"
    }
   ],
   "source": [
    "# This a simple arithmetic expression to mutiply then add integers\n",
    "(3*4)+5"
   ]
  },
  {
   "cell_type": "code",
   "execution_count": 8,
   "id": "a7f07e25-e8fb-4bdc-a7a3-7945ecd4803c",
   "metadata": {},
   "outputs": [
    {
     "data": {
      "text/plain": [
       "3.3333333333333335"
      ]
     },
     "execution_count": 8,
     "metadata": {},
     "output_type": "execute_result"
    }
   ],
   "source": [
    "# This will convert 200 minutes to hours by diving by 60\n",
    "200/60"
   ]
  },
  {
   "cell_type": "markdown",
   "id": "32714841-ff51-41ac-bd2c-d0b61a3f5946",
   "metadata": {},
   "source": [
    "__Objectives:__\n",
    "- List popular languages for Data Science\n",
    "- List Data Science Tools\n",
    "- Libraries for Data Science"
   ]
  },
  {
   "cell_type": "markdown",
   "id": "6ad4d231-87b3-4cba-9997-7a9cef7c6f74",
   "metadata": {},
   "source": [
    "## Author\n",
    "Yashraj Motwani"
   ]
  },
  {
   "cell_type": "code",
   "execution_count": null,
   "id": "f346038c-4026-45d5-84c3-1c8bb2dfbfa3",
   "metadata": {},
   "outputs": [],
   "source": []
  }
 ],
 "metadata": {
  "kernelspec": {
   "display_name": "Python",
   "language": "python",
   "name": "conda-env-python-py"
  },
  "language_info": {
   "codemirror_mode": {
    "name": "ipython",
    "version": 3
   },
   "file_extension": ".py",
   "mimetype": "text/x-python",
   "name": "python",
   "nbconvert_exporter": "python",
   "pygments_lexer": "ipython3",
   "version": "3.7.12"
  }
 },
 "nbformat": 4,
 "nbformat_minor": 5
}
